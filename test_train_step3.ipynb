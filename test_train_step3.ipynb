{
 "cells": [
  {
   "cell_type": "code",
   "execution_count": null,
   "metadata": {},
   "outputs": [],
   "source": [
    "import os\n",
    "import nibabel as nib\n",
    "import glob\n",
    "from PIL import Image\n",
    "import numpy as np\n",
    "import pandas as pd\n",
    "import shutil\n",
    "import matplotlib.pyplot as plt \n",
    "import cv2 as cv\n",
    "from IPython.display import clear_output\n",
    "from random import seed\n",
    "import random\n",
    "import shutil"
   ]
  },
  {
   "cell_type": "code",
   "execution_count": null,
   "metadata": {},
   "outputs": [],
   "source": [
    "def get_images(row, dataset_type ,side):\n",
    "    randid = row[\"rand_ID\"]\n",
    "    p_id = row[\"subjectID_wo_17\"]\n",
    "    pid = str(int(p_id)).zfill(2)\n",
    "    rand_id = str(int(randid)).zfill(2)\n",
    "    \n",
    "    if(side==\"right\"):\n",
    "        end = row[\"head1stR\"]\n",
    "        start = row[\"lastR\"]\n",
    "        slide_id = rand_id+\"cr\"\n",
    "    else:\n",
    "        start = row[\"lastL\"]\n",
    "        end = row[\"head1stL\"]\n",
    "        slide_id = rand_id+\"cl\"\n",
    "    path = \"/data/scratch/chirag24/HIA/data/\"+pid+\"/\"+slide_id+\"/\"\n",
    "    list_dir = os.listdir(path) # dir is your directory path\n",
    "    slide_id_name = slide_id +\"-s\"\n",
    "    #path = path+ slide_id_name\n",
    "    des_path = \"/data/scratch/chirag24/HIA/dataset/\"+dataset_type\n",
    "\n",
    "    no_files = len(list_dir)\n",
    "    for x in range(no_files):\n",
    "        img_name = slide_id_name + str(x)+\".png\"\n",
    "        source = path + img_name\n",
    "        if(x >= start and x<= end):\n",
    "            #move to hippocampus\n",
    "            destination = des_path + \"/hippocampus/\"\n",
    "        else:\n",
    "            #move to non-hippocampus\n",
    "            destination = des_path + \"/non_hippocampus/\"\n",
    "        os.system(\"mkdir -p \"+ destination)\n",
    "        shutil.copyfile(source, destination+img_name)"
   ]
  },
  {
   "cell_type": "code",
   "execution_count": 3,
   "metadata": {},
   "outputs": [],
   "source": [
    "def get_csv_rows(sub_id):\n",
    "    path = \"/data/scratch/chirag24/HIA/\"\n",
    "    df = pd.read_csv(path+\"slide_data.csv\", skiprows=4)\n",
    "    var = float('nan')\n",
    "    df.dropna(how='all')\n",
    "    df = df[df['subjectID_wo_17'] == sub_id]\n",
    "    return df\n",
    "    "
   ]
  },
  {
   "cell_type": "code",
   "execution_count": 4,
   "metadata": {},
   "outputs": [],
   "source": [
    "train_count = 0\n",
    "testCount = 0\n",
    "Tcount = 21\n",
    "train_percent = 70\n",
    "percent = (Tcount-1) * 70 /100\n",
    "for x in range(Tcount):\n",
    "    if(x==17):\n",
    "        continue\n",
    "    value = random.randint(0, Tcount)\n",
    "     \n",
    "    if value%2 == 0 and train_count < percent:  \n",
    "        train_count += 1\n",
    "        dataset_type = \"train\"\n",
    "    elif testCount < (Tcount -1 - percent):\n",
    "        testCount += 1\n",
    "        dataset_type = \"test\"\n",
    "    else:\n",
    "        train_count += 1\n",
    "        dataset_type = \"train\"\n",
    "    df = get_csv_rows(x)\n",
    "    for index, row in df.iterrows():\n",
    "        get_images(row, dataset_type,\"left\")\n",
    "        get_images(row, dataset_type,\"right\")\n",
    "    "
   ]
  },
  {
   "cell_type": "code",
   "execution_count": null,
   "metadata": {},
   "outputs": [],
   "source": []
  },
  {
   "cell_type": "code",
   "execution_count": null,
   "metadata": {},
   "outputs": [],
   "source": []
  }
 ],
 "metadata": {
  "kernelspec": {
   "display_name": "Python [conda env:.conda-venv]",
   "language": "python",
   "name": "conda-env-.conda-venv-py"
  },
  "language_info": {
   "codemirror_mode": {
    "name": "ipython",
    "version": 3
   },
   "file_extension": ".py",
   "mimetype": "text/x-python",
   "name": "python",
   "nbconvert_exporter": "python",
   "pygments_lexer": "ipython3",
   "version": "3.8.1"
  }
 },
 "nbformat": 4,
 "nbformat_minor": 2
}
